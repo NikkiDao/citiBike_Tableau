{
 "cells": [
  {
   "cell_type": "code",
   "execution_count": 1,
   "id": "1340478c",
   "metadata": {},
   "outputs": [],
   "source": [
    "import pandas as pd\n",
    "import glob\n",
    "import os"
   ]
  },
  {
   "cell_type": "code",
   "execution_count": 2,
   "id": "dee21888",
   "metadata": {},
   "outputs": [],
   "source": [
    "#combining all csv files into one master file\n",
    "df = pd.concat(map(pd.read_csv, glob.glob('data/*.csv')))"
   ]
  },
  {
   "cell_type": "code",
   "execution_count": 3,
   "id": "f9572d26",
   "metadata": {},
   "outputs": [
    {
     "data": {
      "text/plain": [
       "(713306, 14)"
      ]
     },
     "execution_count": 3,
     "metadata": {},
     "output_type": "execute_result"
    }
   ],
   "source": [
    "#double check total rows\n",
    "df.shape"
   ]
  },
  {
   "cell_type": "code",
   "execution_count": 8,
   "id": "f2395dd3",
   "metadata": {},
   "outputs": [],
   "source": [
    "#convert to csv file\n",
    "df.to_csv('data/Jan_June_2022_combined.csv')"
   ]
  },
  {
   "cell_type": "code",
   "execution_count": 9,
   "id": "1744b301",
   "metadata": {},
   "outputs": [],
   "source": [
    "# seperating all start stations into one dataframe\n",
    "df_start=df[['start_station_id','start_lat','start_lng','start_station_name']]\n",
    "df_start=df_start.rename(columns={\"start_station_id\": \"station id\", \"start_lat\": \"station latitude\", \"start_lng\": \"station longitude\",\"start_station_name\": \"station_name\"}, errors=\"raise\")"
   ]
  },
  {
   "cell_type": "code",
   "execution_count": 11,
   "id": "79fc84a8",
   "metadata": {},
   "outputs": [],
   "source": [
    "# seperating all end stations into one dataframe\n",
    "df_end=df[['end_station_id','end_lat','end_lng','end_station_name']]\n",
    "df_end=df_end.rename(columns={\"end_station_id\": \"station id\", \"end_lat\": \"station latitude\", \"end_lng\": \"station longitude\",\"end_station_name\": \"station_name\"}, errors=\"raise\")"
   ]
  },
  {
   "cell_type": "code",
   "execution_count": 12,
   "id": "eb8cd53f",
   "metadata": {},
   "outputs": [],
   "source": [
    "# combining both start and end stations together to uniform all stations\n",
    "df_concat=pd.concat([df_start, df_end])\n",
    "df_concat.to_csv('data/all_station_concat.csv')"
   ]
  },
  {
   "cell_type": "code",
   "execution_count": null,
   "id": "a270485e",
   "metadata": {},
   "outputs": [],
   "source": []
  }
 ],
 "metadata": {
  "hide_input": false,
  "kernelspec": {
   "display_name": "Python 3 (ipykernel)",
   "language": "python",
   "name": "python3"
  },
  "language_info": {
   "codemirror_mode": {
    "name": "ipython",
    "version": 3
   },
   "file_extension": ".py",
   "mimetype": "text/x-python",
   "name": "python",
   "nbconvert_exporter": "python",
   "pygments_lexer": "ipython3",
   "version": "3.9.7"
  }
 },
 "nbformat": 4,
 "nbformat_minor": 5
}
